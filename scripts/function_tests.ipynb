{
 "cells": [
  {
   "cell_type": "code",
   "execution_count": 14,
   "metadata": {},
   "outputs": [],
   "source": [
    "import os\n",
    "import copy\n",
    "\n",
    "import rospy\n",
    "import rospkg\n",
    "import cv2\n",
    "import numpy as np\n",
    "import pandas as pd\n",
    "from tqdm import tqdm\n",
    "from rosbag import Bag\n",
    "from pathlib import Path\n",
    "from cv_bridge import CvBridge\n",
    "\n",
    "# The following import is temporary for coding purpose, change if there is error\n",
    "from rosbag_read_utils.Rosbag_Reader import RosbagReader\n",
    "\n",
    "\n",
    "class FormatConverter:\n",
    "    def __init__(self) -> None:\n",
    "        pass\n",
    "\n",
    "\n",
    "def read_observations(obs_topic: str, rosbag: Bag):\n",
    "    obs = pd.DataFrame(columns=[\"timestamp\"] + [f\"joint_{i}\" for i in range(7)])\n",
    "\n",
    "    # initialise progress bar\n",
    "    pbar = tqdm(total=rosbag.get_message_count())\n",
    "\n",
    "    for topic, msg, ts in rosbag.read_messages(obs_topic):\n",
    "        pbar.update(1)\n",
    "        timestamp = pd.to_datetime(ts.to_nsec(), unit=\"ns\")\n",
    "        obs.loc[len(obs)] = [timestamp] + [msg.position[0],\n",
    "                                           msg.position[1],\n",
    "                                           msg.position[2],\n",
    "                                           msg.position[3],\n",
    "                                           msg.position[4],\n",
    "                                           msg.position[5],\n",
    "                                           msg.position[6]] \n",
    "    # return the first 5 rows\n",
    "    obs.head()\n",
    "\n",
    "    return obs\n",
    "\n",
    "def read_images(img_topic: str, rosbag: Bag) -> pd.DataFrame:\n",
    "    images = pd.DataFrame(columns=[\"timestamp\", \"cv::Mat\"])\n",
    "\n",
    "    bridge = CvBridge()\n",
    "\n",
    "    pbar = tqdm(total=rosbag.get_message_count(img_topic))\n",
    "\n",
    "    for topic, msg, ts in rosbag.read_messages(img_topic):\n",
    "        pbar.update(1)\n",
    "        timestamp = pd.to_datetime(ts.to_sec(), unit='s')\n",
    "        cv_image_msg = bridge.imgmsg_to_cv2(msg, desired_encoding=\"passthrough\")\n",
    "        images.loc[len(images)] = [timestamp, cv_image_msg]\n",
    "\n",
    "    return images\n",
    "    \n",
    "def read_and_sync_image(obs: pd.DataFrame ,img_dir: str, img_topic: str, rosbag: Bag, bag_reader: RosbagReader):\n",
    "    cv_image = []\n",
    "    pbar = tqdm(total=rosbag.get_message_count())\n",
    "\n",
    "    for idx, row in obs.iterrows():\n",
    "        pbar.update(1)\n",
    "        image = bag_reader.find_closest_image(rosbag, img_dir, img_topic, row[\"timestamp\"])\n",
    "        cv_image.append(image)\n",
    "    return cv_image\n",
    "\n",
    "\n",
    "\n",
    "\n"
   ]
  },
  {
   "cell_type": "code",
   "execution_count": 15,
   "metadata": {},
   "outputs": [
    {
     "name": "stderr",
     "output_type": "stream",
     "text": [
      "  0%|          | 0/4052 [00:00<?, ?it/s]"
     ]
    },
    {
     "name": "stderr",
     "output_type": "stream",
     "text": [
      " 96%|█████████▌| 3897/4052 [00:04<00:00, 804.88it/s]\n",
      "100%|██████████| 155/155 [00:00<00:00, 361.96it/s]\n"
     ]
    },
    {
     "data": {
      "text/html": [
       "<div>\n",
       "<style scoped>\n",
       "    .dataframe tbody tr th:only-of-type {\n",
       "        vertical-align: middle;\n",
       "    }\n",
       "\n",
       "    .dataframe tbody tr th {\n",
       "        vertical-align: top;\n",
       "    }\n",
       "\n",
       "    .dataframe thead th {\n",
       "        text-align: right;\n",
       "    }\n",
       "</style>\n",
       "<table border=\"1\" class=\"dataframe\">\n",
       "  <thead>\n",
       "    <tr style=\"text-align: right;\">\n",
       "      <th></th>\n",
       "      <th>timestamp</th>\n",
       "      <th>cv::Mat</th>\n",
       "    </tr>\n",
       "  </thead>\n",
       "  <tbody>\n",
       "    <tr>\n",
       "      <th>0</th>\n",
       "      <td>2024-09-10 17:09:22.994849280</td>\n",
       "      <td>[[[170, 196, 206], [170, 196, 206], [169, 195,...</td>\n",
       "    </tr>\n",
       "    <tr>\n",
       "      <th>1</th>\n",
       "      <td>2024-09-10 17:09:23.024444160</td>\n",
       "      <td>[[[167, 189, 205], [167, 189, 205], [167, 189,...</td>\n",
       "    </tr>\n",
       "    <tr>\n",
       "      <th>2</th>\n",
       "      <td>2024-09-10 17:09:23.056168192</td>\n",
       "      <td>[[[167, 189, 205], [167, 189, 205], [167, 189,...</td>\n",
       "    </tr>\n",
       "    <tr>\n",
       "      <th>3</th>\n",
       "      <td>2024-09-10 17:09:23.085401088</td>\n",
       "      <td>[[[167, 189, 205], [167, 189, 205], [167, 189,...</td>\n",
       "    </tr>\n",
       "    <tr>\n",
       "      <th>4</th>\n",
       "      <td>2024-09-10 17:09:23.125168128</td>\n",
       "      <td>[[[167, 189, 200], [167, 189, 200], [167, 189,...</td>\n",
       "    </tr>\n",
       "  </tbody>\n",
       "</table>\n",
       "</div>"
      ],
      "text/plain": [
       "                      timestamp  \\\n",
       "0 2024-09-10 17:09:22.994849280   \n",
       "1 2024-09-10 17:09:23.024444160   \n",
       "2 2024-09-10 17:09:23.056168192   \n",
       "3 2024-09-10 17:09:23.085401088   \n",
       "4 2024-09-10 17:09:23.125168128   \n",
       "\n",
       "                                             cv::Mat  \n",
       "0  [[[170, 196, 206], [170, 196, 206], [169, 195,...  \n",
       "1  [[[167, 189, 205], [167, 189, 205], [167, 189,...  \n",
       "2  [[[167, 189, 205], [167, 189, 205], [167, 189,...  \n",
       "3  [[[167, 189, 205], [167, 189, 205], [167, 189,...  \n",
       "4  [[[167, 189, 200], [167, 189, 200], [167, 189,...  "
      ]
     },
     "execution_count": 15,
     "metadata": {},
     "output_type": "execute_result"
    }
   ],
   "source": [
    "ROS_BAG_PATH = os.getcwd() + \"/../rosbag/2024-09-10-17-09-22.bag\"\n",
    "IMG_DIR = os.getcwd() + \"/../image_data\"\n",
    "OBS_TOPIC = \"/left_arm/joint_states\"\n",
    "IMG_TOPIC = \"/left_arm_camera/color/image_rect_color\"\n",
    "# Initialise bag reader\n",
    "bag_reader = RosbagReader()\n",
    "bag = bag_reader.get_rosbag(path_to_bag=ROS_BAG_PATH)\n",
    "# Read and sync robot obs and image data\n",
    "obs = read_observations(OBS_TOPIC, bag)\n",
    "images = read_images(IMG_TOPIC, bag)\n",
    "images.head()"
   ]
  },
  {
   "cell_type": "code",
   "execution_count": 20,
   "metadata": {
    "vscode": {
     "languageId": "shellscript"
    }
   },
   "outputs": [
    {
     "name": "stdout",
     "output_type": "stream",
     "text": [
      "Collecting imageio[ffmpeg]\n",
      "  Downloading imageio-2.35.1-py3-none-any.whl (315 kB)\n",
      "\u001b[K     |████████████████████████████████| 315 kB 8.5 MB/s eta 0:00:01\n",
      "\u001b[?25hRequirement already satisfied: numpy in /home/boting/.local/lib/python3.8/site-packages (from imageio[ffmpeg]) (1.24.4)\n",
      "Collecting pillow>=8.3.2\n",
      "  Downloading pillow-10.4.0-cp38-cp38-manylinux_2_17_x86_64.manylinux2014_x86_64.whl (4.4 MB)\n",
      "\u001b[K     |████████████████████████████████| 4.4 MB 20.7 MB/s eta 0:00:01\n",
      "\u001b[?25hRequirement already satisfied: psutil; extra == \"ffmpeg\" in /usr/lib/python3/dist-packages (from imageio[ffmpeg]) (5.5.1)\n",
      "Collecting imageio-ffmpeg; extra == \"ffmpeg\"\n",
      "  Downloading imageio_ffmpeg-0.5.1-py3-none-manylinux2010_x86_64.whl (26.9 MB)\n",
      "\u001b[K     |████████████████████████████████| 26.9 MB 134.6 MB/s eta 0:00:01\n",
      "\u001b[?25hRequirement already satisfied: setuptools in /usr/lib/python3/dist-packages (from imageio-ffmpeg; extra == \"ffmpeg\"->imageio[ffmpeg]) (45.2.0)\n",
      "Installing collected packages: pillow, imageio-ffmpeg, imageio\n",
      "Successfully installed imageio-2.35.1 imageio-ffmpeg-0.5.1 pillow-10.4.0\n"
     ]
    }
   ],
   "source": [
    "!pip install imageio[ffmpeg]\n",
    "\n"
   ]
  },
  {
   "cell_type": "code",
   "execution_count": 24,
   "metadata": {},
   "outputs": [
    {
     "name": "stdout",
     "output_type": "stream",
     "text": [
      "<class 'list'>\n"
     ]
    }
   ],
   "source": [
    "print(type(cv_image))"
   ]
  },
  {
   "cell_type": "code",
   "execution_count": 27,
   "metadata": {},
   "outputs": [],
   "source": [
    "import matplotlib\n",
    "import matplotlib.pyplot as plt\n",
    "import matplotlib.animation as animation\n",
    "from IPython.display import HTML\n",
    "\n",
    "matplotlib.rcParams['animation.embed_limit'] = 2**128\n",
    "\n",
    "def play_image_sequence_in_notebook(cv_image_list, fps=30):\n",
    "    \"\"\"\n",
    "    Display a sequence of OpenCV images as a video in a Jupyter Notebook.\n",
    "    \n",
    "    Args:\n",
    "        cv_image_list (list): List of OpenCV images to display.\n",
    "        fps (int): Frames per second (FPS) to simulate video playback.\n",
    "    \"\"\"\n",
    "    fig, ax = plt.subplots()\n",
    "\n",
    "    # Initialize the plot with the first image\n",
    "    im = ax.imshow(cv_image_list[0])\n",
    "\n",
    "    # Function to update the plot for each frame\n",
    "    def update_frame(i):\n",
    "        im.set_data(cv_image_list[i])\n",
    "        return [im]\n",
    "\n",
    "    # Create the animation\n",
    "    frame_interval = int(1000 / fps)  # Interval in milliseconds between frames\n",
    "    ani = animation.FuncAnimation(fig, update_frame, frames=len(cv_image_list), interval=frame_interval, blit=True)\n",
    "\n",
    "    # Display the animation in the notebook\n",
    "    return HTML(ani.to_jshtml())\n",
    "\n",
    "# Example usage with your list of OpenCV images (cv_image_list)\n",
    "# Assuming cv_image_list is a list of OpenCV images\n",
    "play_image_sequence_in_notebook(cv_image, fps=30)\n"
   ]
  }
 ],
 "metadata": {
  "kernelspec": {
   "display_name": "Python 3",
   "language": "python",
   "name": "python3"
  },
  "language_info": {
   "codemirror_mode": {
    "name": "ipython",
    "version": 3
   },
   "file_extension": ".py",
   "mimetype": "text/x-python",
   "name": "python",
   "nbconvert_exporter": "python",
   "pygments_lexer": "ipython3",
   "version": "3.8.10"
  }
 },
 "nbformat": 4,
 "nbformat_minor": 2
}
